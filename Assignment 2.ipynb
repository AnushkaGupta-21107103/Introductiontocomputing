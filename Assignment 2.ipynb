{
  "nbformat": 4,
  "nbformat_minor": 0,
  "metadata": {
    "colab": {
      "name": "Untitled0.ipynb",
      "provenance": [],
      "authorship_tag": "ABX9TyOTvaQPnOoGg3lZU26EKq6/",
      "include_colab_link": true
    },
    "kernelspec": {
      "name": "python3",
      "display_name": "Python 3"
    },
    "language_info": {
      "name": "python"
    }
  },
  "cells": [
    {
      "cell_type": "markdown",
      "metadata": {
        "id": "view-in-github",
        "colab_type": "text"
      },
      "source": [
        "<a href=\"https://colab.research.google.com/github/AnushkaGupta-21107103/Introductiontocomputing/blob/main/Assignment%202.ipynb\" target=\"_parent\"><img src=\"https://colab.research.google.com/assets/colab-badge.svg\" alt=\"Open In Colab\"/></a>"
      ]
    },
    {
      "cell_type": "code",
      "execution_count": 1,
      "metadata": {
        "colab": {
          "base_uri": "https://localhost:8080/"
        },
        "id": "nZWpz837ZSC8",
        "outputId": "9eedd3cb-9790-4a7b-db8f-2679926d7ce9"
      },
      "outputs": [
        {
          "output_type": "stream",
          "name": "stdout",
          "text": [
            "35\n",
            "egaugnal evitisnes esac a si nohtyP\n",
            " a case sensitive\n",
            "Python is object oriented language\n",
            "10\n",
            "Pythonisacasesensitivelanguage\n"
          ]
        }
      ],
      "source": [
        "#question 1\n",
        "input_string=\"Python is a case sensitive language\"\n",
        "print(len(input_string))\n",
        "print(input_string[::-1])\n",
        "print(input_string[9:26])\n",
        "print(input_string[:10:]+'object oriented'+input_string[26:])\n",
        "print(input_string.find('a'))\n",
        "print(input_string.replace(' ',''))"
      ]
    },
    {
      "cell_type": "code",
      "source": [
        "#question 2\n",
        "Name='Anushka Gupta'\n",
        "SID=21107103\n",
        "Department='Mechanical'\n",
        "CGPA=9.9\n",
        "\n",
        "print('Hey, '+Name+' Here!\\nMy SID is ' + str(SID)+'\\nI am from '+Department+' Department and my CGPA is '+str(CGPA))"
      ],
      "metadata": {
        "colab": {
          "base_uri": "https://localhost:8080/"
        },
        "id": "5BSE33DtZjb0",
        "outputId": "9a9339f0-5a20-45fb-eaa5-89b60a737432"
      },
      "execution_count": 2,
      "outputs": [
        {
          "output_type": "stream",
          "name": "stdout",
          "text": [
            "Hey, Anushka Gupta Here!\n",
            "My SID is 21107103\n",
            "I am from Mechanical Department and my CGPA is 9.9\n"
          ]
        }
      ]
    },
    {
      "cell_type": "code",
      "source": [
        "#question 3\n",
        "a=56\n",
        "b=10\n",
        "print('a&b = '+ str(a&b))\n",
        "print('a|b = '+ str(a|b))\n",
        "print('a^b = '+ str(a^b))\n",
        "print('a shifted left by 2 bits is ',str(a<<2)+' and b shifted left by 2 bits is '+str(b<<2))\n",
        "print('a shifted right by 2 bits is ',str(a>>2)+' and b shifted right by 2 bits '+str(b>>2))"
      ],
      "metadata": {
        "colab": {
          "base_uri": "https://localhost:8080/"
        },
        "id": "gtQ-o7HgZ2vp",
        "outputId": "ef7d0a80-c704-4d65-917b-be2d0c8b3d6a"
      },
      "execution_count": 3,
      "outputs": [
        {
          "output_type": "stream",
          "name": "stdout",
          "text": [
            "a&b = 8\n",
            "a|b = 58\n",
            "a^b = 50\n",
            "a shifted left by 2 bits is  224 and b shifted left by 2 bits is 40\n",
            "a shifted right by 2 bits is  14 and b shifted right by 2 bits 2\n"
          ]
        }
      ]
    },
    {
      "cell_type": "code",
      "source": [
        "#question 4\n",
        "if 'name' in input('Enter a string = '):\n",
        "    print('Yes')\n",
        "else:\n",
        "    print('No')"
      ],
      "metadata": {
        "colab": {
          "base_uri": "https://localhost:8080/"
        },
        "id": "yQFN4osUaGqL",
        "outputId": "1062aeda-86ea-433f-8425-2b75784e13bf"
      },
      "execution_count": 4,
      "outputs": [
        {
          "output_type": "stream",
          "name": "stdout",
          "text": [
            "Enter a string = hello\n",
            "No\n"
          ]
        }
      ]
    },
    {
      "cell_type": "code",
      "source": [
        "#question 5\n",
        "a=float(input('Enter first side '))\n",
        "b=float(input('Enter second side '))\n",
        "c=float(input('Enter third side '))\n",
        "\n",
        "Result = ((a+b>c) & (a+c>b) & (b+c>a)) ==1\n",
        "\n",
        "print(str(Result).replace('True','Yes').replace('False', 'No'))"
      ],
      "metadata": {
        "colab": {
          "base_uri": "https://localhost:8080/"
        },
        "id": "nvYl17vLaMTL",
        "outputId": "d64fe57e-8e54-4e61-9128-b1dc4952ce24"
      },
      "execution_count": 5,
      "outputs": [
        {
          "output_type": "stream",
          "name": "stdout",
          "text": [
            "Enter first side 23\n",
            "Enter second side 33\n",
            "Enter third side 45\n",
            "Yes\n"
          ]
        }
      ]
    },
    {
      "cell_type": "code",
      "source": [
        "#question 6\n",
        "a=int(input('Enter the first number: '))\n",
        "b=int(input('Enter the second number: '))\n",
        "\n",
        "print((str(bin(a^b)).count('1')))"
      ],
      "metadata": {
        "colab": {
          "base_uri": "https://localhost:8080/"
        },
        "id": "SSsv8ysbaclO",
        "outputId": "8c6c2434-ea52-4fd5-e15d-4081e5de1068"
      },
      "execution_count": 6,
      "outputs": [
        {
          "output_type": "stream",
          "name": "stdout",
          "text": [
            "Enter the first number: 23\n",
            "Enter the second number: 43\n",
            "4\n"
          ]
        }
      ]
    }
  ]
}