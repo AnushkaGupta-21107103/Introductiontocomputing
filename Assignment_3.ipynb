{
  "nbformat": 4,
  "nbformat_minor": 0,
  "metadata": {
    "colab": {
      "name": "Assignment 3.ipynb",
      "provenance": [],
      "authorship_tag": "ABX9TyM3gBgFhhd2XGys0UHnzESQ",
      "include_colab_link": true
    },
    "kernelspec": {
      "name": "python3",
      "display_name": "Python 3"
    },
    "language_info": {
      "name": "python"
    }
  },
  "cells": [
    {
      "cell_type": "markdown",
      "metadata": {
        "id": "view-in-github",
        "colab_type": "text"
      },
      "source": [
        "<a href=\"https://colab.research.google.com/github/AnushkaGupta-21107103/Introductiontocomputing/blob/main/Assignment_3.ipynb\" target=\"_parent\"><img src=\"https://colab.research.google.com/assets/colab-badge.svg\" alt=\"Open In Colab\"/></a>"
      ]
    },
    {
      "cell_type": "code",
      "execution_count": 1,
      "metadata": {
        "colab": {
          "base_uri": "https://localhost:8080/"
        },
        "id": "dYAdHVQ78yRH",
        "outputId": "b1b63b90-6529-449e-f392-24ac78fcd837"
      },
      "outputs": [
        {
          "output_type": "stream",
          "name": "stdout",
          "text": [
            "Enter a number: 4\n",
            "The binary of that number is 100\n"
          ]
        }
      ],
      "source": [
        "#Question1\n",
        "print('The binary of that number is ' + str(bin(int(input('Enter a number: ')))).replace('0b',''))"
      ]
    },
    {
      "cell_type": "code",
      "source": [
        "#Question2\n",
        "a = int(input('Enter first number: '))\n",
        "operator = input('Enter operator\\n1. add\\t2. subtract\\t3. multiply\\t4. division\\t5. floor division\\t6. modulus\\n')\n",
        "b = int(input('Enter second number: '))\n",
        "\n",
        "if int(operator) == 1:\n",
        "    print('Result = ' + str(a + b))\n",
        "elif int(operator) == 2:\n",
        "    print('Result = ' + str(a - b))\n",
        "elif int(operator) == 3:\n",
        "    print('Result = ' + str(a * b))\n",
        "elif int(operator) == 4:\n",
        "    print('Result = ' + str(a / b))\n",
        "elif int(operator) == 5:\n",
        "    print('Result = ' + str(a // b))\n",
        "else:\n",
        "    print('Result = ' + str(a % b))"
      ],
      "metadata": {
        "colab": {
          "base_uri": "https://localhost:8080/"
        },
        "id": "EfVfILCqB95z",
        "outputId": "e1894c6f-f1fa-4a98-9bcb-7c350ccab4d0"
      },
      "execution_count": 2,
      "outputs": [
        {
          "output_type": "stream",
          "name": "stdout",
          "text": [
            "Enter first number: 22\n",
            "Enter operator\n",
            "1. add\t2. subtract\t3. multiply\t4. division\t5. floor division\t6. modulus\n",
            "7\n",
            "Enter second number: 7\n",
            "Result = 1\n"
          ]
        }
      ]
    },
    {
      "cell_type": "code",
      "source": [
        "#Question3\n",
        "from math import pi\n",
        "from math import sin\n",
        "from math import cos\n",
        "\n",
        "print((3 + 4) * 5)\n",
        "n = int(input('Enter a number: '))\n",
        "print(n*(n-1)/2)\n",
        "r = float(input('Enter another number: '))\n",
        "print(4 * pi * r**2)\n",
        "a = float(input('Enter 2 more numbers:'))\n",
        "b = float(input())\n",
        "print((r * cos(a)**2 + r * sin(b)**2) ** 0.5 )\n",
        "\n",
        "y2 = float(input('Enter 4 more numbers: '))\n",
        "y1 = float(input())\n",
        "x2 = float(input())\n",
        "x1 = float(input())\n",
        "\n",
        "print((y2 - y1) / (x2 - x1))"
      ],
      "metadata": {
        "colab": {
          "base_uri": "https://localhost:8080/"
        },
        "id": "z869nG3mCW6w",
        "outputId": "e2c1bb67-f533-4094-f357-4a07f581cc13"
      },
      "execution_count": 3,
      "outputs": [
        {
          "output_type": "stream",
          "name": "stdout",
          "text": [
            "35\n",
            "Enter a number: 44\n",
            "946.0\n",
            "Enter another number: 32\n",
            "12867.963509103793\n",
            "Enter 2 more numbers:4\n",
            "4\n",
            "5.656854249492381\n",
            "Enter 4 more numbers: 6\n",
            "6\n",
            "5\n",
            "3\n",
            "0.0\n"
          ]
        }
      ]
    },
    {
      "cell_type": "code",
      "source": [
        "#Question4\n",
        "print(range(5))\n",
        "print(range(3, 10))\n",
        "print(range(4, 13, 3))\n",
        "print(range(15, 5, -2))\n",
        "print(range(5, 3))"
      ],
      "metadata": {
        "colab": {
          "base_uri": "https://localhost:8080/"
        },
        "id": "ccAFNw2oHvch",
        "outputId": "335b2a0a-a8f7-4dcf-8093-a1a2263b8190"
      },
      "execution_count": 4,
      "outputs": [
        {
          "output_type": "stream",
          "name": "stdout",
          "text": [
            "range(0, 5)\n",
            "range(3, 10)\n",
            "range(4, 13, 3)\n",
            "range(15, 5, -2)\n",
            "range(5, 3)\n"
          ]
        }
      ]
    },
    {
      "cell_type": "code",
      "source": [
        "#Question5\n",
        "print('Molecular Weight = ' + str((float(input('Enter number of Hydrogen atoms: ')) * 1.00794) + (float(input('Enter number of Carbon atoms: ')) * 12.0107) + (float(input('Enter number of Oxygen atoms: ')) * 15.9994)))"
      ],
      "metadata": {
        "colab": {
          "base_uri": "https://localhost:8080/"
        },
        "id": "uL6DZqGWL4Qm",
        "outputId": "bbebfc45-b138-472b-cdc8-4aa3cdc28161"
      },
      "execution_count": 5,
      "outputs": [
        {
          "output_type": "stream",
          "name": "stdout",
          "text": [
            "Enter number of Hydrogen atoms: 12\n",
            "Enter number of Carbon atoms: 5\n",
            "Enter number of Oxygen atoms: 6\n",
            "Molecular Weight = 168.14517999999998\n"
          ]
        }
      ]
    }
  ]
}