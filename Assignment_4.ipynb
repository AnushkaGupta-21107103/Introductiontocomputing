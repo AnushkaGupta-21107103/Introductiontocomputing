{
  "nbformat": 4,
  "nbformat_minor": 0,
  "metadata": {
    "colab": {
      "name": "Assignment 4.ipynb",
      "provenance": [],
      "authorship_tag": "ABX9TyM8CANgH2I1QEmoHr7TfMNP",
      "include_colab_link": true
    },
    "kernelspec": {
      "name": "python3",
      "display_name": "Python 3"
    },
    "language_info": {
      "name": "python"
    }
  },
  "cells": [
    {
      "cell_type": "markdown",
      "metadata": {
        "id": "view-in-github",
        "colab_type": "text"
      },
      "source": [
        "<a href=\"https://colab.research.google.com/github/AnushkaGupta-21107103/Introductiontocomputing/blob/main/Assignment_4.ipynb\" target=\"_parent\"><img src=\"https://colab.research.google.com/assets/colab-badge.svg\" alt=\"Open In Colab\"/></a>"
      ]
    },
    {
      "cell_type": "code",
      "execution_count": 1,
      "metadata": {
        "colab": {
          "base_uri": "https://localhost:8080/"
        },
        "id": "8t85rWCEhmjP",
        "outputId": "f03ff725-6857-435a-e973-a86e36c19a4e"
      },
      "outputs": [
        {
          "output_type": "stream",
          "name": "stdout",
          "text": [
            "Please enter your marks 97\n",
            "Your final grade is A\n"
          ]
        }
      ],
      "source": [
        "#Question 1\n",
        "\n",
        "grade= float(input(\"Please enter your marks \"))\n",
        "\n",
        "if grade<25:\n",
        "    print(\"Your final grade is F\")\n",
        "elif grade>=25 and grade<45:\n",
        "    print(\"Your final grade is E\")\n",
        "elif grade>=45 and grade<50:\n",
        "    print(\"Your final grade is D\")\n",
        "elif grade>=50 and grade<60:\n",
        "    print(\"Your final grade is C\")\n",
        "elif grade>=60 and grade<80:\n",
        "    print(\"Your final grade is B\")\n",
        "elif grade>=80 and grade<=100:\n",
        "    print(\"Your final grade is A\")\n",
        "else:\n",
        "    print(\"Error: You cannot have the entered number of marks!\")\n",
        "  "
      ]
    },
    {
      "cell_type": "code",
      "source": [
        "#Question 2\n",
        "\n",
        "year= int(input(\"Please enter year: \"))\n",
        "\n",
        "if year % 100 == 0:\n",
        "    if year % 400 == 0:\n",
        "        print(\"The year\",year,\" is a leap year!\")\n",
        "    else:\n",
        "        print(\"The year\",year,\" is not a leap year\")\n",
        "elif year % 4 == 0:\n",
        "    print(\"The year\",year,\" is a leap year!\")\n",
        "else:\n",
        "    print(\"The year\",year,\" is not a leap year\")"
      ],
      "metadata": {
        "colab": {
          "base_uri": "https://localhost:8080/"
        },
        "id": "aqMCrVaciAlj",
        "outputId": "96191197-a405-4e7f-f4f6-621db80e2e3d"
      },
      "execution_count": 4,
      "outputs": [
        {
          "output_type": "stream",
          "name": "stdout",
          "text": [
            "Please enter year: 2022\n",
            "The year 2022  is not a leap year\n"
          ]
        }
      ]
    },
    {
      "cell_type": "code",
      "source": [
        "#Question 3\n",
        "\n",
        "from random import randint\n",
        "\n",
        "for loop_variable in range(10):\n",
        "    no1 = randint(0,10)\n",
        "    no2 = randint(0,10)\n",
        "    if int(input('Question: ' + str(no1) + ' x ' + str(no2) + ' = ')) == no1 * no2: print('Right!')\n",
        "    else: print('Wrong. The answer is ', no1 * no2)\n"
      ],
      "metadata": {
        "colab": {
          "base_uri": "https://localhost:8080/"
        },
        "id": "zcL-ft2Kiaju",
        "outputId": "a77922e3-d504-4445-a91c-7711bb168f93"
      },
      "execution_count": 5,
      "outputs": [
        {
          "output_type": "stream",
          "name": "stdout",
          "text": [
            "Question: 2 x 4 = 8\n",
            "Right!\n",
            "Question: 2 x 3 = 6\n",
            "Right!\n",
            "Question: 9 x 7 = 63\n",
            "Right!\n",
            "Question: 6 x 4 = 22\n",
            "Wrong. The answer is  24\n",
            "Question: 1 x 8 = 8\n",
            "Right!\n",
            "Question: 7 x 0 = 0\n",
            "Right!\n",
            "Question: 3 x 0 = 0\n",
            "Right!\n",
            "Question: 3 x 0 = 0\n",
            "Right!\n",
            "Question: 4 x 7 = 28\n",
            "Right!\n",
            "Question: 8 x 0 = 0\n",
            "Right!\n"
          ]
        }
      ]
    },
    {
      "cell_type": "code",
      "source": [
        "#Question 4\n",
        "\n",
        "number=1\n",
        "while number<200:\n",
        "    if number%5 == 2 and number%6 == 3 and number%7 == 2:\n",
        "        print(\"The number is: \" + str(number))\n",
        "    number = number + 1"
      ],
      "metadata": {
        "colab": {
          "base_uri": "https://localhost:8080/"
        },
        "id": "5QjgK1ZcjfOo",
        "outputId": "a13fc2e1-a328-4c94-f746-39bbbff483fb"
      },
      "execution_count": 6,
      "outputs": [
        {
          "output_type": "stream",
          "name": "stdout",
          "text": [
            "The number is: 177\n"
          ]
        }
      ]
    }
  ]
}