{
  "nbformat": 4,
  "nbformat_minor": 0,
  "metadata": {
    "colab": {
      "name": "Untitled",
      "provenance": [],
      "authorship_tag": "ABX9TyM1nzV+tYOXuOF5iQbwbxm9",
      "include_colab_link": true
    },
    "kernelspec": {
      "name": "python3",
      "display_name": "Python 3"
    },
    "language_info": {
      "name": "python"
    }
  },
  "cells": [
    {
      "cell_type": "markdown",
      "metadata": {
        "id": "view-in-github",
        "colab_type": "text"
      },
      "source": [
        "<a href=\"https://colab.research.google.com/github/AnushkaGupta-21107103/Introductiontocomputing/blob/main/Assignment3.ipynb\" target=\"_parent\"><img src=\"https://colab.research.google.com/assets/colab-badge.svg\" alt=\"Open In Colab\"/></a>"
      ]
    },
    {
      "cell_type": "code",
      "execution_count": 1,
      "metadata": {
        "colab": {
          "base_uri": "https://localhost:8080/"
        },
        "id": "SWFR6In_YeQD",
        "outputId": "ce6c1e90-f176-464b-a0c5-adb27a1aa970"
      },
      "outputs": [
        {
          "output_type": "stream",
          "name": "stdout",
          "text": [
            "Enter a number: 43\n",
            "The binary of this number is 101011\n"
          ]
        }
      ],
      "source": [
        "#Question1\n",
        "user_input = input(\"Enter a number: \")\n",
        "print(\"The binary of this number is \" + bin(int(user_input)).replace('0b',''))\n"
      ]
    },
    {
      "cell_type": "code",
      "source": [
        "#Question2\n",
        "number_1 = float(input(\"Enter first number: \"))\n",
        "operator = input(\"Enter operator: \\n For Addition:(+) \\n For Substraction:(-) \\n For Multiplication:(*) \\n For Division:(/) \\n For Floor Division:(//) \\n For Modulus:(%)\\n Enter the operator to be used: \")\n",
        "number_2 = float(input(\"Enter second number: \"))\n",
        "\n",
        "if operator == \"+\":\n",
        "    print(\"Result:\", number_1 + number_2)\n",
        "elif operator == \"-\":\n",
        "    print(\"Result:\", number_1 - number_2)\n",
        "elif operator == \"*\":\n",
        "    print(\"Result:\", number_1 * number_2)\n",
        "elif operator == \"/\":\n",
        "    print(\"Result:\", number_1 / number_2)\n",
        "elif operator == \"//\":\n",
        "    print(\"Result:\", number_1 // number_2)\n",
        "elif operator == \"%\":\n",
        "    print(\"Result:\", number_1 % number_2)\n",
        "else:\n",
        "  print(\"Please use a correct operator and try again...\")"
      ],
      "metadata": {
        "colab": {
          "base_uri": "https://localhost:8080/"
        },
        "id": "IA9pnhKEZiej",
        "outputId": "b08660f5-1fe2-4291-8e76-8448b89efbe0"
      },
      "execution_count": 5,
      "outputs": [
        {
          "output_type": "stream",
          "name": "stdout",
          "text": [
            "Enter first number: 23\n",
            "Enter operator: \n",
            " For Addition:(+) \n",
            " For Substraction:(-) \n",
            " For Multiplication:(*) \n",
            " For Division:(/) \n",
            " For Floor Division:(//) \n",
            " For Modulus:(%)\n",
            " Enter the operator to be used: +\n",
            "Enter second number: 4\n",
            "Result: 27.0\n"
          ]
        }
      ]
    },
    {
      "cell_type": "code",
      "source": [
        "#Question3\n",
        "from math import pi\n",
        "from math import sin\n",
        "from math import cos\n",
        "# a)\n",
        "print(\" a) (3 + 4) * 5\")\n",
        "print(\"Result :\", (3 + 4) * 5)\n",
        "# b)\n",
        "print(\" b) n*(n-1)/2\")\n",
        "n = int(input(\"Enter the value of n: \"))\n",
        "print(\"Result:\", n*(n-1)/2)\n",
        "# c)\n",
        "print(\" c) 4 * pi * r1**2\")\n",
        "r1 = float(input(\"Enter the value of r1: \"))\n",
        "print(\"Result:\", 4 * pi * r1**2)\n",
        "# d)\n",
        "print(\" d) (r2 * cos(a)*2 + r2 * sin(b)2) * 0.5\")\n",
        "r2 = float(input(\"Enter the value of r2: \"))\n",
        "a = float(input(\"Enter the value of a: \"))\n",
        "b = float(input(\"Enter the value of b: \"))\n",
        "print(\"Result:\", (r2 * cos(a)**2 + r2 * sin(b)**2) ** 0.5 )\n",
        "# e)\n",
        "print(\" e) (y2 - y1) / (x2 - x1)\")\n",
        "x1 = float(input(\"Enter the value of x1: \"))\n",
        "x2 = float(input(\"Enter the value of x2: \"))\n",
        "y1 = float(input(\"Enter the value of y1: \"))\n",
        "y2 = float(input(\"Enter the value of y2: \"))\n",
        "print(\"Result:\", (y2 - y1) / (x2 - x1))"
      ],
      "metadata": {
        "colab": {
          "base_uri": "https://localhost:8080/"
        },
        "id": "HkVJoFjVaeXN",
        "outputId": "18920c71-504c-46f2-88f2-461021dc0294"
      },
      "execution_count": 8,
      "outputs": [
        {
          "output_type": "stream",
          "name": "stdout",
          "text": [
            " a) (3 + 4) * 5\n",
            "Result : 35\n",
            " b) n*(n-1)/2\n",
            "Enter the value of n: 56\n",
            "Result: 1540.0\n",
            " c) 4 * pi * r1**2\n",
            "Enter the value of r1: 67\n",
            "Result: 56410.43768785833\n",
            " d) (r2 * cos(a)*2 + r2 * sin(b)2) * 0.5\n",
            "Enter the value of r2: 99\n",
            "Enter the value of a: 200\n",
            "Enter the value of b: 68\n",
            "Result: 10.164593897065018\n",
            " e) (y2 - y1) / (x2 - x1)\n",
            "Enter the value of x1: 35\n",
            "Enter the value of x2: 11\n",
            "Enter the value of y1: 4\n",
            "Enter the value of y2: 7\n",
            "Result: -0.125\n"
          ]
        }
      ]
    },
    {
      "cell_type": "code",
      "source": [
        "#Question4\n",
        "print(\"range(5)\")\n",
        "for x in range(5):\n",
        "    print(x)\n",
        "\n",
        "print(\"range(3, 10)\")\n",
        "for x in range(3, 10):\n",
        "    print(x) \n",
        "\n",
        "print(\"range(4 ,13, 3)\")\n",
        "for x in range(4 ,13, 3):\n",
        "    print(x) \n",
        "\n",
        "print(\"range(15, 5, -2)\")\n",
        "for x in range(15, 5, -2):\n",
        "    print(x) \n",
        "\n",
        "print(\"range(5, 3)\")\n",
        "for x in range(5, 3):\n",
        "    print(x)"
      ],
      "metadata": {
        "colab": {
          "base_uri": "https://localhost:8080/"
        },
        "id": "2vpM0gKjbSSS",
        "outputId": "384e34a6-a51c-42ce-9544-77dd4321b200"
      },
      "execution_count": 9,
      "outputs": [
        {
          "output_type": "stream",
          "name": "stdout",
          "text": [
            "range(5)\n",
            "0\n",
            "1\n",
            "2\n",
            "3\n",
            "4\n",
            "range(3, 10)\n",
            "3\n",
            "4\n",
            "5\n",
            "6\n",
            "7\n",
            "8\n",
            "9\n",
            "range(4 ,13, 3)\n",
            "4\n",
            "7\n",
            "10\n",
            "range(15, 5, -2)\n",
            "15\n",
            "13\n",
            "11\n",
            "9\n",
            "7\n",
            "range(5, 3)\n"
          ]
        }
      ]
    },
    {
      "cell_type": "code",
      "source": [
        "#Question5\n",
        "hydrogen=int(input(\"number of hydrogen atoms:\"))\n",
        "oxygen=int(input(\"number of oxygen atoms:\"))\n",
        "carbon=int(input(\"number of carbon atoms:\"))\n",
        "print(\"molecular weight:\",hydrogen*1.00794+carbon*12.0107+oxygen*15.9994)"
      ],
      "metadata": {
        "colab": {
          "base_uri": "https://localhost:8080/"
        },
        "id": "fkPblVZ6beTt",
        "outputId": "1d4ea3c6-6a4e-4c9c-e35b-95decd1b17ae"
      },
      "execution_count": 10,
      "outputs": [
        {
          "output_type": "stream",
          "name": "stdout",
          "text": [
            "number of hydrogen atoms:12\n",
            "number of oxygen atoms:6\n",
            "number of carbon atoms:3\n",
            "molecular weight: 144.12378\n"
          ]
        }
      ]
    }
  ]
}