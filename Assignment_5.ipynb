{
  "nbformat": 4,
  "nbformat_minor": 0,
  "metadata": {
    "colab": {
      "name": "Assignment 5.ipynb",
      "provenance": [],
      "collapsed_sections": [],
      "authorship_tag": "ABX9TyMVGa7YZ8B/kZgPdXRPWUCd",
      "include_colab_link": true
    },
    "kernelspec": {
      "name": "python3",
      "display_name": "Python 3"
    },
    "language_info": {
      "name": "python"
    }
  },
  "cells": [
    {
      "cell_type": "markdown",
      "metadata": {
        "id": "view-in-github",
        "colab_type": "text"
      },
      "source": [
        "<a href=\"https://colab.research.google.com/github/AnushkaGupta-21107103/Introductiontocomputing/blob/main/Assignment_5.ipynb\" target=\"_parent\"><img src=\"https://colab.research.google.com/assets/colab-badge.svg\" alt=\"Open In Colab\"/></a>"
      ]
    },
    {
      "cell_type": "code",
      "execution_count": 1,
      "metadata": {
        "colab": {
          "base_uri": "https://localhost:8080/"
        },
        "id": "Ps933kfbpY6Y",
        "outputId": "794126d8-ff87-4823-9ce5-dc6cae66960c"
      },
      "outputs": [
        {
          "output_type": "stream",
          "name": "stdout",
          "text": [
            "Enter string: holla\n",
            "The original string  is :  holla\n",
            "The reversed string using a while loop is :  alloh\n"
          ]
        }
      ],
      "source": [
        "# Question 1\n",
        "\n",
        "string = input(\"Enter string: \")   #string variable  \n",
        "print(\"The original string  is : \",string)   \n",
        "reverse_string = \"\"  # empty String  \n",
        "count = len(string) # Find length of a string and save in count variable  \n",
        "while count > 0:   \n",
        "    reverse_string += string[ count - 1 ] # save the value of str[count-1] in reversestring  \n",
        "    count = count - 1 # decrement index  \n",
        "print(\"The reversed string using a while loop is : \",reverse_string)\n",
        "\n",
        "\n"
      ]
    },
    {
      "cell_type": "code",
      "source": [
        "#Question 2\n",
        "\n",
        "n=int(input(\"Enter the number: \"))\n",
        "x=int(input(\"Enter the range: \"))\n",
        "#The number and range provided by user\n",
        "\n",
        "print(\"The numbers divisible are: \")\n",
        "for i in range(x):\n",
        "    if i%n==0:\n",
        "        print(i)"
      ],
      "metadata": {
        "colab": {
          "base_uri": "https://localhost:8080/"
        },
        "id": "gUA-YuO3Uxrc",
        "outputId": "03d96c4f-4b48-4880-e582-7f233d119e59"
      },
      "execution_count": 2,
      "outputs": [
        {
          "output_type": "stream",
          "name": "stdout",
          "text": [
            "Enter the number: 5\n",
            "Enter the range: 45\n",
            "The numbers divisible are: \n",
            "0\n",
            "5\n",
            "10\n",
            "15\n",
            "20\n",
            "25\n",
            "30\n",
            "35\n",
            "40\n"
          ]
        }
      ]
    },
    {
      "cell_type": "code",
      "source": [
        "#Question 3\n",
        "\n",
        "a = float(input('Enter first side = '))  \n",
        "b = float(input('Enter second side = '))  \n",
        "c = float(input('Enter third side = '))\n",
        "\n",
        "if a<b+c:\n",
        "    if c<a+b:\n",
        "        if b<a+c:\n",
        "            # calculate the semi-perimeter  \n",
        "            s = (a + b + c) / 2  \n",
        "  \n",
        "            # calculate the area  \n",
        "            area = (s*(s-a)*(s-b)*(s-c)) ** 0.5  \n",
        "            print('The area of the triangle is ',area)\n",
        "        else:\n",
        "            print(\"invalid input\")\n",
        "    else:\n",
        "        print(\"invalid input\")\n",
        "else:\n",
        "    print(\"invalid input\")\n",
        "\n"
      ],
      "metadata": {
        "colab": {
          "base_uri": "https://localhost:8080/"
        },
        "id": "SfOH01umVaQm",
        "outputId": "77ce8343-805b-4784-8fc8-cd507298cb20"
      },
      "execution_count": 7,
      "outputs": [
        {
          "output_type": "stream",
          "name": "stdout",
          "text": [
            "Enter first side = 10\n",
            "Enter second side = 10\n",
            "Enter third side = 10\n",
            "The area of the triangle is  43.30127018922193\n"
          ]
        }
      ]
    },
    {
      "cell_type": "code",
      "source": [
        "#Question 4\n",
        "\n",
        "n=5; \n",
        "for i in range(n):\n",
        "    for j in range(i):\n",
        "        print ('* ', end=\"\") \n",
        "    print('') #to change line\n",
        "\n",
        "for i in range(n,0,-1):\n",
        "    for j in range(i):\n",
        "        print('* ', end=\"\")\n",
        "    print('') #to change line\n",
        "\n"
      ],
      "metadata": {
        "colab": {
          "base_uri": "https://localhost:8080/"
        },
        "id": "SVF6Bx9EWRP6",
        "outputId": "140a7283-9b50-4546-83c8-84faa116d1df"
      },
      "execution_count": 9,
      "outputs": [
        {
          "output_type": "stream",
          "name": "stdout",
          "text": [
            "\n",
            "* \n",
            "* * \n",
            "* * * \n",
            "* * * * \n",
            "* * * * * \n",
            "* * * * \n",
            "* * * \n",
            "* * \n",
            "* \n"
          ]
        }
      ]
    },
    {
      "cell_type": "code",
      "source": [
        "#Question 5\n",
        "\n",
        "i=int(input(\"number of rows: \"))\n",
        "while i<7:\n",
        "    if i==1:\n",
        "      print(\"A\")\n",
        "    if i==2:\n",
        "      print(\"A\\nBC\")\n",
        "    if i==3:\n",
        "      print(\"A\\nBC \\nDEF\")\n",
        "    if i==4:\n",
        "      print(\"A\\nBC \\nDEF \\nGHIJ\")\n",
        "    if i==5:\n",
        "      print (\"A\\nBC \\nDEF \\nGHIJ \\nKLMNO\")\n",
        "    if i==6:\n",
        "      print (\"A\\nBC \\nDEF \\nGHIJ \\nKLMNO \\nPQRSTU\")\n",
        "    i+=9\n",
        "\n",
        "if i>7 :\n",
        "  print (\"its over\")\n",
        "      \n",
        "    \n",
        "\n",
        "\n"
      ],
      "metadata": {
        "colab": {
          "base_uri": "https://localhost:8080/"
        },
        "id": "sR7EPgeeWiLJ",
        "outputId": "13ddc96b-03de-4021-854c-03cf3a09f30e"
      },
      "execution_count": 23,
      "outputs": [
        {
          "output_type": "stream",
          "name": "stdout",
          "text": [
            "number of rows: 5\n",
            "A\n",
            "BC \n",
            "DEF \n",
            "GHIJ \n",
            "KLMNO\n",
            "its over\n"
          ]
        }
      ]
    },
    {
      "cell_type": "code",
      "source": [
        "#Question 6\n",
        "\n",
        "lower= int(input(\"Enter the Lowest Range Value: \"))  \n",
        "upper= int(input(\"Enter the Upper Range Value: \"))  \n",
        "  \n",
        "print(\"The Prime Numbers in the range are: \")  \n",
        "for number in range (lower, upper + 1):  \n",
        "    if number > 1:  \n",
        "        for i in range (2, number):  \n",
        "            if (number % i) == 0:  \n",
        "                break  #breaks if divisible by another number except 1 and itself.\n",
        "        else:  \n",
        "            print (number)"
      ],
      "metadata": {
        "colab": {
          "base_uri": "https://localhost:8080/"
        },
        "id": "TQ11lRYFWyYk",
        "outputId": "72ac0e11-10a1-42e3-86b3-607d1d7e137e"
      },
      "execution_count": 24,
      "outputs": [
        {
          "output_type": "stream",
          "name": "stdout",
          "text": [
            "Enter the Lowest Range Value: 3\n",
            "Enter the Upper Range Value: 58\n",
            "The Prime Numbers in the range are: \n",
            "3\n",
            "5\n",
            "7\n",
            "11\n",
            "13\n",
            "17\n",
            "19\n",
            "23\n",
            "29\n",
            "31\n",
            "37\n",
            "41\n",
            "43\n",
            "47\n",
            "53\n"
          ]
        }
      ]
    },
    {
      "cell_type": "code",
      "source": [
        "#Question 7\n",
        "\n",
        "for i in range(1,500):\n",
        "    if i%7==0:\n",
        "        if i%11==0:\n",
        "            print(i)"
      ],
      "metadata": {
        "colab": {
          "base_uri": "https://localhost:8080/"
        },
        "id": "vLePaN4bW5BQ",
        "outputId": "ed07dabe-cb2c-48dc-a4e4-3cf29bba28c8"
      },
      "execution_count": 25,
      "outputs": [
        {
          "output_type": "stream",
          "name": "stdout",
          "text": [
            "77\n",
            "154\n",
            "231\n",
            "308\n",
            "385\n",
            "462\n"
          ]
        }
      ]
    },
    {
      "cell_type": "code",
      "source": [
        "#Question 8\n",
        "\n",
        "#a) positive numbers           \n",
        "l=[]\n",
        "for i in range(10):\n",
        "    a=int(input(\"Enter value: \"))\n",
        "    l.append(a)\n",
        "print(\"\\nThe positive numbers are\")\n",
        "for i in l:\n",
        "    if i>0:\n",
        "        print(i)\n",
        "#b) negative numbers\n",
        "print(\"\\nThe negative numbers are\")\n",
        "for i in l:\n",
        "    if i<0:\n",
        "        print(i)\n",
        "#c) odd numbers\n",
        "print(\"\\nThe odd numbers are\")\n",
        "for i in l:\n",
        "    if i%2==1:\n",
        "        print(i)\n",
        "#d) even numbers\n",
        "print(\"\\nThe even numbers are\")\n",
        "for i in l:\n",
        "    if i%2==0:\n",
        "        print(i)\n",
        "#e) Number of times each number occurs in the List\n",
        "print(\"\\nNumber of times each number occurs in the List\")\n",
        "for i in l:\n",
        "    count=0\n",
        "    for ele in l:\n",
        "        if (ele == i):\n",
        "            count = count + 1\n",
        "    print(\"Count of\",i,\"=\",count)"
      ],
      "metadata": {
        "colab": {
          "base_uri": "https://localhost:8080/"
        },
        "id": "s7y28id1W_TD",
        "outputId": "1f52f00a-c2f9-48da-da2a-df90feab5cc2"
      },
      "execution_count": 30,
      "outputs": [
        {
          "output_type": "stream",
          "name": "stdout",
          "text": [
            "Enter value: 12\n",
            "Enter value: 22\n",
            "Enter value: 3\n",
            "Enter value: -9\n",
            "Enter value: 99\n",
            "Enter value: 78\n",
            "Enter value: 55\n",
            "Enter value: 43\n",
            "Enter value: 0\n",
            "Enter value: 3\n",
            "\n",
            "The positive numbers are\n",
            "12\n",
            "22\n",
            "3\n",
            "99\n",
            "78\n",
            "55\n",
            "43\n",
            "3\n",
            "\n",
            "The negative numbers are\n",
            "-9\n",
            "\n",
            "The odd numbers are\n",
            "3\n",
            "-9\n",
            "99\n",
            "55\n",
            "43\n",
            "3\n",
            "\n",
            "The even numbers are\n",
            "12\n",
            "22\n",
            "78\n",
            "0\n",
            "\n",
            "Number of times each number occurs in the List\n",
            "Count of 12 = 1\n",
            "Count of 22 = 1\n",
            "Count of 3 = 2\n",
            "Count of -9 = 1\n",
            "Count of 99 = 1\n",
            "Count of 78 = 1\n",
            "Count of 55 = 1\n",
            "Count of 43 = 1\n",
            "Count of 0 = 1\n",
            "Count of 3 = 2\n"
          ]
        }
      ]
    },
    {
      "cell_type": "code",
      "source": [
        "#Question 9\n",
        "\n",
        "l=[]\n",
        "n=int(input(\"\\nlength of list: \")) #number of desired elements\n",
        "for i in range(n):\n",
        "    a=input(\"Enter value: \") #appending list\n",
        "    l.append(a)\n",
        "\n",
        "\n",
        "for i in l:\n",
        "    count=0\n",
        "    for ele in l:\n",
        "        if (ele == i):\n",
        "            count = count + 1\n",
        "    print(\"Count of\",i,\"=\",count) #count of each word"
      ],
      "metadata": {
        "colab": {
          "base_uri": "https://localhost:8080/"
        },
        "id": "P4L8ZczSXING",
        "outputId": "231fe7a8-0b12-4d2f-e8c4-6071ae8623b5"
      },
      "execution_count": 29,
      "outputs": [
        {
          "output_type": "stream",
          "name": "stdout",
          "text": [
            "\n",
            "length of list: 5\n",
            "Enter value: there\n",
            "Enter value: we\n",
            "Enter value: down\n",
            "Enter value: there\n",
            "Enter value: water\n",
            "Count of there = 2\n",
            "Count of we = 1\n",
            "Count of down = 1\n",
            "Count of there = 2\n",
            "Count of water = 1\n"
          ]
        }
      ]
    }
  ]
}