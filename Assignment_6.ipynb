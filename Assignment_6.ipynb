{
  "nbformat": 4,
  "nbformat_minor": 0,
  "metadata": {
    "colab": {
      "name": "Assignment 6.ipynb",
      "provenance": [],
      "authorship_tag": "ABX9TyN5gnAlt2oRNzfH+r4qyrC1",
      "include_colab_link": true
    },
    "kernelspec": {
      "name": "python3",
      "display_name": "Python 3"
    },
    "language_info": {
      "name": "python"
    }
  },
  "cells": [
    {
      "cell_type": "markdown",
      "metadata": {
        "id": "view-in-github",
        "colab_type": "text"
      },
      "source": [
        "<a href=\"https://colab.research.google.com/github/AnushkaGupta-21107103/Introductiontocomputing/blob/main/Assignment_6.ipynb\" target=\"_parent\"><img src=\"https://colab.research.google.com/assets/colab-badge.svg\" alt=\"Open In Colab\"/></a>"
      ]
    },
    {
      "cell_type": "code",
      "execution_count": 2,
      "metadata": {
        "colab": {
          "base_uri": "https://localhost:8080/"
        },
        "id": "-GaitSD96kTJ",
        "outputId": "d44b51cc-c7e8-4056-864d-a5114a62ec67"
      },
      "outputs": [
        {
          "output_type": "stream",
          "name": "stdout",
          "text": [
            "enter a number to check whether its perfect: 16\n",
            "divisors of  16  are  [1, 2, 4, 8, 16]\n",
            "16  is not a perfect number.\n"
          ]
        }
      ],
      "source": [
        "#Question 1\n",
        "num= int(input(\"enter a number to check whether its perfect: \"))\n",
        "def perfect(num):\n",
        "    num_div=[]\n",
        "    sum=0\n",
        "\n",
        "    for i in range(1,num+1):\n",
        "        if num%i==0:\n",
        "            num_div.append(i)\n",
        "    print(\"divisors of \", num,\" are \", num_div)\n",
        "\n",
        "    for elem in num_div:\n",
        "        sum= sum+elem\n",
        "    if num==0.5*sum:\n",
        "        print(num, \" is a perfect number.\")\n",
        "    else:\n",
        "        print(num, \" is not a perfect number.\")\n",
        "\n",
        "\n",
        "perfect(num)\n"
      ]
    },
    {
      "cell_type": "code",
      "source": [
        "#Question 2\n",
        "user_string=str(input(\"enter a word, phrase or sentence: \"))\n",
        "\n",
        "def palindrome(string):\n",
        "    rev_string=string[::-1]\n",
        "    print(rev_string)\n",
        "    if string==rev_string:\n",
        "        print(\"entered string is a palindrome\")\n",
        "    else:\n",
        "        print(\"entered string is not a palindrome\")\n",
        "palindrome(user_string)\n"
      ],
      "metadata": {
        "colab": {
          "base_uri": "https://localhost:8080/"
        },
        "id": "7nUKJvwY69Z6",
        "outputId": "6cc2898f-6e2a-45f6-f88d-718735fbcb87"
      },
      "execution_count": 6,
      "outputs": [
        {
          "output_type": "stream",
          "name": "stdout",
          "text": [
            "enter a word, phrase or sentence: Strawberry icecream\n",
            "maerceci yrrebwartS\n",
            "entered string is not a palindrome\n"
          ]
        }
      ]
    },
    {
      "cell_type": "code",
      "source": [
        "#Question 3\n",
        "\n",
        "from math import factorial\n",
        "\n",
        "n=5\n",
        "for i in range(n):\n",
        "    for j in range(n-1-i):\n",
        "        print(\" \", end=\"\")\n",
        "    for k in range (i+1):\n",
        "        print(factorial(i) // (factorial(i-k)*factorial(k)) , end=\" \") # nCr = n! / ((n-r)! * r!)\n",
        "    print()"
      ],
      "metadata": {
        "colab": {
          "base_uri": "https://localhost:8080/"
        },
        "id": "LWVHi1eg7u72",
        "outputId": "9aefe2c1-3d88-47aa-e3b0-7a9742a74f67"
      },
      "execution_count": 7,
      "outputs": [
        {
          "output_type": "stream",
          "name": "stdout",
          "text": [
            "    1 \n",
            "   1 1 \n",
            "  1 2 1 \n",
            " 1 3 3 1 \n",
            "1 4 6 4 1 \n"
          ]
        }
      ]
    },
    {
      "cell_type": "code",
      "source": [
        "#Question 4\n",
        "def palgram(str):\n",
        "    alphabet=\"abcdefghijklmnopqrstuvwxyz\"\n",
        "    for char in alphabet:\n",
        "        if char not in str:\n",
        "            return False\n",
        "    return True\n",
        "\n",
        "Input_word=str(input(\"Enter a sentence= \"))\n",
        "\n",
        "if palgram(Input_word)==False:\n",
        "    print(\"entered sentence is not a palgram\")\n",
        "else:\n",
        "    print(\"entered sentence is palgram\")"
      ],
      "metadata": {
        "colab": {
          "base_uri": "https://localhost:8080/"
        },
        "id": "8jZQBPHM72-C",
        "outputId": "60ae038f-3120-4300-83f0-ec5fcbff0a78"
      },
      "execution_count": 8,
      "outputs": [
        {
          "output_type": "stream",
          "name": "stdout",
          "text": [
            "Enter a sentence= A book written cannot be unwritten\n",
            "entered sentence is not a palgram\n"
          ]
        }
      ]
    },
    {
      "cell_type": "code",
      "source": [
        "#Question 5\n",
        "\n",
        "n=input(\"enter the string: \") \n",
        "l=n.split('-') \n",
        "l.sort() \n",
        "print('-'.join(l)) \n",
        "\n",
        "\n"
      ],
      "metadata": {
        "colab": {
          "base_uri": "https://localhost:8080/"
        },
        "id": "7IrmfeKy8Rdr",
        "outputId": "ad9aa64c-7e7d-491e-f7f8-720bcbc5c619"
      },
      "execution_count": 20,
      "outputs": [
        {
          "output_type": "stream",
          "name": "stdout",
          "text": [
            "enter the string: hello-is-this-working-at-all\n",
            "all-at-hello-is-this-working\n"
          ]
        }
      ]
    },
    {
      "cell_type": "code",
      "source": [
        "#Question 6\n",
        "def student_data(student_name , student_branch, student_id):\n",
        "    print(\"student name: \",student_name)\n",
        "    print(\"student branch: \",student_branch)\n",
        "    print(\"student id: \",student_id)\n",
        "\n",
        "student_data(\"Anushka\",\"Mechanical\",21107103)"
      ],
      "metadata": {
        "colab": {
          "base_uri": "https://localhost:8080/"
        },
        "id": "u3f2rcBP-ErY",
        "outputId": "0ee0a72c-8995-432f-ebd5-54e02e157f54"
      },
      "execution_count": 21,
      "outputs": [
        {
          "output_type": "stream",
          "name": "stdout",
          "text": [
            "student name:  Anushka\n",
            "student branch:  Mechanical\n",
            "student id:  21107103\n"
          ]
        }
      ]
    },
    {
      "cell_type": "code",
      "source": [
        "#Question 7\n",
        "\n",
        "class Student:\n",
        "    pass \n",
        "class Marks:\n",
        "    pass \n",
        "student1 = Student()\n",
        "marks1 = Marks()\n",
        "print(isinstance(student1, Student))\n",
        "print(isinstance(marks1, Student))\n",
        "print(isinstance(marks1, Marks)) \n",
        "print(isinstance(student1, Marks))\n",
        "print(\"Check whether the said classes are subclasses of the built-in object class or not.\")\n",
        "print(issubclass(Student, object))\n",
        "print(issubclass(Marks, object))\n",
        "print()\n"
      ],
      "metadata": {
        "colab": {
          "base_uri": "https://localhost:8080/"
        },
        "id": "dE_UojPr-VOa",
        "outputId": "909ab983-9ab7-458a-ee30-29eda74e9974"
      },
      "execution_count": 22,
      "outputs": [
        {
          "output_type": "stream",
          "name": "stdout",
          "text": [
            "True\n",
            "False\n",
            "True\n",
            "False\n",
            "Check whether the said classes are subclasses of the built-in object class or not.\n",
            "True\n",
            "True\n",
            "\n"
          ]
        }
      ]
    },
    {
      "cell_type": "code",
      "source": [
        "#Question 8\n",
        "\n",
        "def findTriplets(arr, n):\n",
        "\n",
        "\tfound = False\n",
        "\tfor i in range(0, n-2):\n",
        "\t\n",
        "\t\tfor j in range(i+1, n-1):\n",
        "\t\t\n",
        "\t\t\tfor k in range(j+1, n):\n",
        "\t\t\t\n",
        "\t\t\t\tif (arr[i] + arr[j] + arr[k] == 0):\n",
        "\t\t\t\t\tprint(arr[i], arr[j], arr[k])\n",
        "\t\t\t\t\tfound = True\n",
        "    if (found == False):\n",
        "\t     \tprint(\"No triplets exist\")\n",
        "lst = []\n",
        "n = int(input(\"Enter number of elements : \"))\n",
        "\n",
        "for i in range(0, n):\n",
        "\tele = int(input())\n",
        "\tlst.append(ele) \n",
        "print(findTriplets(lst,n)) \n"
      ],
      "metadata": {
        "colab": {
          "base_uri": "https://localhost:8080/",
          "height": 130
        },
        "id": "o3QpolGd-hIX",
        "outputId": "9d4c76b1-5505-45d4-d0f4-a2b74bad33cd"
      },
      "execution_count": 37,
      "outputs": [
        {
          "output_type": "error",
          "ename": "IndentationError",
          "evalue": "ignored",
          "traceback": [
            "\u001b[0;36m  File \u001b[0;32m\"<ipython-input-37-1b25a15bcaee>\"\u001b[0;36m, line \u001b[0;32m15\u001b[0m\n\u001b[0;31m    if (found == False):\u001b[0m\n\u001b[0m                        ^\u001b[0m\n\u001b[0;31mIndentationError\u001b[0m\u001b[0;31m:\u001b[0m unindent does not match any outer indentation level\n"
          ]
        }
      ]
    },
    {
      "cell_type": "code",
      "source": [
        "#Question 8\n",
        "\n",
        "class parantheses:\n",
        "    def find(str):\n",
        "        a= ['()', '{}', '[]'] \n",
        "        while any(i in str for i in a):\n",
        "            for j in a:\n",
        "                str = str.replace(j, '') \n",
        "        return not str \n",
        "\n",
        "s = input(\"Enter the sequence of parantheses : \")\n",
        "if parantheses.find(s):\n",
        "    print(s,\"-\",\"is balanced\")\n",
        "else:\n",
        "    print(s,\"-\",\"is unbalanced\")"
      ],
      "metadata": {
        "colab": {
          "base_uri": "https://localhost:8080/"
        },
        "id": "SWfTkfjN_dpN",
        "outputId": "86ac7c18-cc6c-4901-c51a-4236153aea6c"
      },
      "execution_count": 34,
      "outputs": [
        {
          "output_type": "stream",
          "name": "stdout",
          "text": [
            "Enter the sequence of parantheses : '()\",'{}\",'()','[]'\n",
            "'()\",'{}\",'()','[]' - is unbalanced\n"
          ]
        }
      ]
    }
  ]
}